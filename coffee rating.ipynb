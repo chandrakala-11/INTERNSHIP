{
 "cells": [
  {
   "cell_type": "code",
   "execution_count": 1,
   "metadata": {},
   "outputs": [],
   "source": [
    "# Coffee Rating"
   ]
  },
  {
   "cell_type": "code",
   "execution_count": 2,
   "metadata": {},
   "outputs": [
    {
     "name": "stdout",
     "output_type": "stream",
     "text": [
      "password:chandra\n",
      "staff can press 100 to terminate loop\n",
      "customers,kindly enter the rating of coffee from 1-5\n",
      "enter rating2\n",
      "enter rating4\n",
      "enter rating5\n",
      "enter rating2\n",
      "enter rating3\n",
      "enter rating9\n",
      "rating out of range\n",
      "dear staff,kindly enter the password to see avg\n",
      "\n",
      "password:chandra\n",
      "average rating is 3.2\n",
      "enter rating6\n",
      "rating out of range\n",
      "dear staff,kindly enter the password to see avg\n",
      "\n",
      "password:chandra\n",
      "average rating is 3.2\n",
      "enter rating4\n",
      "enter rating2\n",
      "enter rating3\n",
      "enter rating100\n"
     ]
    }
   ],
   "source": [
    "staff=input(\"password:\")\n",
    "count=0\n",
    "sum=0\n",
    "print(\"staff can press 100 to terminate loop\")\n",
    "print(\"customers,kindly enter the rating of coffee from 1-5\")\n",
    "start=100\n",
    "while(start!=10):\n",
    "    rating=int(input(\"enter rating\"))\n",
    "    if(rating==100):\n",
    "        start=100\n",
    "        break\n",
    "    elif(rating>=0 and rating<=5):\n",
    "        sum=sum+rating\n",
    "        count=count+1\n",
    "    else:\n",
    "        print(\"rating out of range\")\n",
    "        print(\"dear staff,kindly enter the password to see avg\\n\")\n",
    "        password=input(\"password:\")\n",
    "        if(staff==password):\n",
    "            avg=(sum)/count\n",
    "            print(\"average rating is\",avg)\n",
    "        else:\n",
    "            print(\"password incorrect \")"
   ]
  },
  {
   "cell_type": "code",
   "execution_count": null,
   "metadata": {},
   "outputs": [],
   "source": []
  }
 ],
 "metadata": {
  "kernelspec": {
   "display_name": "Python 3",
   "language": "python",
   "name": "python3"
  },
  "language_info": {
   "codemirror_mode": {
    "name": "ipython",
    "version": 3
   },
   "file_extension": ".py",
   "mimetype": "text/x-python",
   "name": "python",
   "nbconvert_exporter": "python",
   "pygments_lexer": "ipython3",
   "version": "3.7.7"
  }
 },
 "nbformat": 4,
 "nbformat_minor": 4
}
