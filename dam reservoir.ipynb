{
 "cells": [
  {
   "cell_type": "markdown",
   "metadata": {},
   "source": [
    "# Dam Reservoir,s\n"
   ]
  },
  {
   "cell_type": "code",
   "execution_count": 1,
   "metadata": {},
   "outputs": [
    {
     "name": "stdout",
     "output_type": "stream",
     "text": [
      "the current water level is 1875000000 cu.m\n"
     ]
    }
   ],
   "source": [
    "dam_cap=67957.0457\n",
    "holds=46095.2641\n",
    "rain=2500000000\n",
    "rainoff=rain-625000000\n",
    "heavystrom=rainoff+375000000\n",
    "groundwater=heavystrom+125000000\n",
    "evp_irri=groundwater-125000000-375000000 \n",
    "print(\"the current water level is\",evp_irri,\"cu.m\")"
   ]
  },
  {
   "cell_type": "code",
   "execution_count": null,
   "metadata": {},
   "outputs": [],
   "source": []
  }
 ],
 "metadata": {
  "kernelspec": {
   "display_name": "Python 3",
   "language": "python",
   "name": "python3"
  },
  "language_info": {
   "codemirror_mode": {
    "name": "ipython",
    "version": 3
   },
   "file_extension": ".py",
   "mimetype": "text/x-python",
   "name": "python",
   "nbconvert_exporter": "python",
   "pygments_lexer": "ipython3",
   "version": "3.7.7"
  }
 },
 "nbformat": 4,
 "nbformat_minor": 4
}
